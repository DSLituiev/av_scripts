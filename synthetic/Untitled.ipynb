{
 "cells": [
  {
   "cell_type": "code",
   "execution_count": 6,
   "metadata": {
    "collapsed": true
   },
   "outputs": [],
   "source": [
    "import synthetic;\n",
    "pathToMotifs = \"motifs.txt\";\n",
    "loadedMotifs = synthetic.LoadedEncodeMotifs(pathToMotifs, pseudocountProb=0.001);"
   ]
  },
  {
   "cell_type": "code",
   "execution_count": 7,
   "metadata": {
    "collapsed": true
   },
   "outputs": [],
   "source": [
    "embedInBackground = synthetic.EmbedInABackground(\n",
    "    backgroundGenerator=synthetic.ZeroOrderBackgroundGenerator(seqLength=500) \n",
    "    , embedders=[\n",
    "        synthetic.RepeatedEmbedder(\n",
    "            embedder=synthetic.SubstringEmbedder(\n",
    "                substringGenerator=synthetic.PwmSamplerFromLoadedMotifs(\n",
    "                   loadedMotifs=loadedMotifs                  \n",
    "                    ,motifName=\"CTCF_known1\"  \n",
    "                )\n",
    "                ,positionGenerator=synthetic.UniformPositionGenerator()  \n",
    "            )\n",
    "            ,quantityGenerator=synthetic.MinMaxWrapper(\n",
    "                quantityGenerator=synthetic.PoissonQuantityGenerator(3)\n",
    "                ,theMin=1,theMax=5\n",
    "            ) \n",
    "        )\n",
    "        ,\n",
    "        synthetic.RepeatedEmbedder(\n",
    "            embedder=synthetic.SubstringEmbedder(\n",
    "                substringGenerator=synthetic.PwmSamplerFromLoadedMotifs(\n",
    "                   loadedMotifs=loadedMotifs \n",
    "                    ,motifName=\"SPI1_known1\"  \n",
    "                )\n",
    "                ,positionGenerator=synthetic.UniformPositionGenerator()  \n",
    "            )\n",
    "            ,quantityGenerator=synthetic.FixedQuantityGenerator(5) \n",
    "        )\n",
    "    ]\n",
    ");"
   ]
  },
  {
   "cell_type": "code",
   "execution_count": 8,
   "metadata": {
    "collapsed": false
   },
   "outputs": [
    {
     "name": "stdout",
     "output_type": "stream",
     "text": [
      "TAAGCCTCACTGAGGAACTACGTACCTGAGTTGATTCTTGGAAATTGTGCTCAACAATAGGCGTGCAGAGGAACACGGGAATTCGATAGTACAAGTTGCCGTGCGCTTCGATTTACAAAAGGGTGCACCGTGAGCCGTAGATGCCCTGCCAGATTACGAACGAAGTTCTTACTTTCCTCGACCACCAGATGGCAAGGTCCGTTACTACAACATAGGGAAGCTCTAGCATCTTGATGTAATCCTACGACTTATACAGGAGGAAGGGCGTGAGGAAGGCGTAGTTCAAGTCGGACTTTGCCCCACGCGTCTGCCTTAATGTTAAGCAGAAGAAGGAGCTGTATATTATATCTTTATATCGGTGTCCACCAGGCGGCACCCTGAAACAATCCATAGAAAGCTATGAATACAACCTCCAAATCTTCTTCATGCTACGGGACCCCTTGACCTGCAGATGGCGATAAAGCCCGTAGCTCACAGAAGTGTGTCATCATTATCCATTT \n",
      "synth1 \n",
      "('TGTCCACCAGGCGGCACCC', 359)\n",
      "('TGACCTGCAGATGGCGATA', 441)\n",
      "('CGACCACCAGATGGCAAGG', 178)\n",
      "('AGAGGAAC', 66)\n",
      "('TGAGGAAG', 267)\n",
      "('GGAGGAAG', 255)\n",
      "('TGAGGAAC', 10)\n",
      "('AGAAGAAG', 324)\n"
     ]
    }
   ],
   "source": [
    "generatedSeq=embedInBackground.generateSequence();\n",
    "print generatedSeq.seq,\"\\n\", generatedSeq.seqName,\"\\n\", \"\\n\".join(str((x.seq, x.startPos)) for x in generatedSeq.embeddings)"
   ]
  },
  {
   "cell_type": "code",
   "execution_count": null,
   "metadata": {
    "collapsed": true
   },
   "outputs": [],
   "source": []
  }
 ],
 "metadata": {
  "kernelspec": {
   "display_name": "Python 2",
   "language": "python",
   "name": "python2"
  },
  "language_info": {
   "codemirror_mode": {
    "name": "ipython",
    "version": 2
   },
   "file_extension": ".py",
   "mimetype": "text/x-python",
   "name": "python",
   "nbconvert_exporter": "python",
   "pygments_lexer": "ipython2",
   "version": "2.7.9"
  }
 },
 "nbformat": 4,
 "nbformat_minor": 0
}
