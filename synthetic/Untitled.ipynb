{
 "cells": [
  {
   "cell_type": "code",
   "execution_count": 1,
   "metadata": {
    "collapsed": true
   },
   "outputs": [],
   "source": [
    "import synthetic;\n",
    "pathToMotifs = \"motifs.txt\";\n",
    "loadedMotifs = synthetic.LoadedEncodeMotifs(pathToMotifs, pseudocountProb=0.001);"
   ]
  },
  {
   "cell_type": "code",
   "execution_count": 2,
   "metadata": {
    "collapsed": true
   },
   "outputs": [],
   "source": [
    "embedInBackground = synthetic.EmbedInABackground(\n",
    "    backgroundGenerator=synthetic.ZeroOrderBackgroundGenerator(seqLength=500) \n",
    "    , embedders=[\n",
    "        synthetic.RepeatedEmbedder(\n",
    "            embedder=synthetic.SubstringEmbedder(\n",
    "                substringGenerator=synthetic.PwmSamplerFromLoadedMotifs(\n",
    "                   loadedMotifs=loadedMotifs                  \n",
    "                    ,motifName=\"CTCF_known1\"  \n",
    "                )\n",
    "                ,positionGenerator=synthetic.UniformPositionGenerator()  \n",
    "            )\n",
    "            ,quantityGenerator=synthetic.MinMaxWrapper(quantityGenerator=synthetic.PoissonQuantityGenerator(3),theMin=1,theMax=5) \n",
    "        )\n",
    "        ,\n",
    "        synthetic.RepeatedEmbedder(\n",
    "            embedder=synthetic.SubstringEmbedder(\n",
    "                substringGenerator=synthetic.PwmSamplerFromLoadedMotifs(\n",
    "                   loadedMotifs=loadedMotifs \n",
    "                    ,motifName=\"SPI1_known1\"  \n",
    "                )\n",
    "                ,positionGenerator=synthetic.UniformPositionGenerator()  \n",
    "            )\n",
    "            ,quantityGenerator=synthetic.FixedQuantityGenerator(5) \n",
    "        )\n",
    "    ]\n",
    ");"
   ]
  },
  {
   "cell_type": "code",
   "execution_count": 5,
   "metadata": {
    "collapsed": false
   },
   "outputs": [
    {
     "name": "stdout",
     "output_type": "stream",
     "text": [
      "ACCATCTAGTAGTAAAACGCCTTCGATATATTGGTACTTTGTCAATTATTATACGAATTTTGCTGAGTTTCTATAGATAGTTACCAAACATATTTCCAATAGGGGACACCAAGTCGGGAAGCTGATAGATCAGCACCAAGCAACCTATAGGGGGCACCCATAATAGCTCCAACATAGGTTTAATTAAGCACCTTTGACCCTCTTTGGAGTGTCGGGCTGCCTAATAGACCCGCAGATGTCGCTACAAATGAGAGGAAGCGAATTCTTATTTGAGGAAGTAATATCTATGCAACATCAAAGAAAAATCCGGGTCATTGGTGAGGAAGAAGAAAATTCACACCGATCTGTTTACGTCGTAAGATGAAATTCTGAACTCATGAAGTAGACATTAGCCGCGAAGCGGAAGGACAATACTTTAACCATATACAAAGCATACTGTAGAGTGTACGCAAATCCAGACCAGTAGAGGGCACTACAATTGTTTAATTCACGGTTTCATA \n",
      "synth3 \n",
      "('CAACCTATAGGGGGCACCC', 140)\n",
      "('AGACCCGCAGATGTCGCTA', 225)\n",
      "('AGACCAGTAGAGGGCACTA', 456)\n",
      "('TTTCCAATAGGGGACACCA', 92)\n",
      "('TGAGGAAG', 270)\n",
      "('AGCGGAAG', 398)\n",
      "('AGAGGAAG', 250)\n",
      "('TCGGGAAG', 113)\n",
      "('TGAGGAAG', 318)\n"
     ]
    }
   ],
   "source": [
    "generatedSeq=embedInBackground.generateSequence();\n",
    "print generatedSeq.seq,\"\\n\", generatedSeq.seqName,\"\\n\", \"\\n\".join(str((x.seq, x.startPos)) for x in generatedSeq.embeddings)"
   ]
  },
  {
   "cell_type": "code",
   "execution_count": null,
   "metadata": {
    "collapsed": true
   },
   "outputs": [],
   "source": []
  }
 ],
 "metadata": {
  "kernelspec": {
   "display_name": "Python 2",
   "language": "python",
   "name": "python2"
  },
  "language_info": {
   "codemirror_mode": {
    "name": "ipython",
    "version": 2
   },
   "file_extension": ".py",
   "mimetype": "text/x-python",
   "name": "python",
   "nbconvert_exporter": "python",
   "pygments_lexer": "ipython2",
   "version": "2.7.9"
  }
 },
 "nbformat": 4,
 "nbformat_minor": 0
}
