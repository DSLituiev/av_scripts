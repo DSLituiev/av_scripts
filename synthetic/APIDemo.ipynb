{
 "cells": [
  {
   "cell_type": "code",
   "execution_count": 7,
   "metadata": {
    "collapsed": false
   },
   "outputs": [],
   "source": [
    "import synthetic;\n",
    "import json\n",
    "pathToMotifs = \"motifs.txt\";\n",
    "loadedMotifs = synthetic.LoadedEncodeMotifs(pathToMotifs, pseudocountProb=0.001)\n",
    "\n",
    "ctcfSampler = synthetic.PwmSamplerFromLoadedMotifs(loadedMotifs,motifName=\"CTCF_known1\")\n"
   ]
  },
  {
   "cell_type": "code",
   "execution_count": 8,
   "metadata": {
    "collapsed": false
   },
   "outputs": [],
   "source": [
    "spi1Sampler = synthetic.BestHitPwmFromLoadedMotifs(loadedMotifs,motifName=\"SPI1_known1\", bestHitMode=\"logOdds\")\n",
    "\n",
    "singleCtcfEmbedder = synthetic.SubstringEmbedder(substringGenerator=ctcfSampler\n",
    "                                                ,positionGenerator=synthetic.UniformPositionGenerator())"
   ]
  },
  {
   "cell_type": "code",
   "execution_count": 9,
   "metadata": {
    "collapsed": false
   },
   "outputs": [],
   "source": [
    "singleSpi1Embedder = synthetic.SubstringEmbedder(substringGenerator=spi1Sampler\n",
    "                                                ,positionGenerator=synthetic.OutsideCentralBp(400))\n",
    "\n",
    "truncatedPoissonGenerator=synthetic.MinMaxWrapper(quantityGenerator=synthetic.PoissonQuantityGenerator(3)\n",
    "                                                    ,theMin=1,theMax=5)"
   ]
  },
  {
   "cell_type": "code",
   "execution_count": 10,
   "metadata": {
    "collapsed": false
   },
   "outputs": [],
   "source": [
    "zeroInflater = synthetic.ZeroInflater(quantityGenerator=synthetic.PoissonQuantityGenerator(5), zeroProb=0.5)"
   ]
  },
  {
   "cell_type": "code",
   "execution_count": 12,
   "metadata": {
    "collapsed": false
   },
   "outputs": [],
   "source": [
    "singleIRFembedder = synthetic.SubstringEmbedder(\n",
    "                substringGenerator=synthetic.BestHitPwmFromLoadedMotifs(loadedMotifs,motifName=\"IRF_known1\",bestHitMode=\"logOdds\")\n",
    "                ,positionGenerator=synthetic.UniformPositionGenerator())\n",
    "\n",
    "embedInBackground = synthetic.EmbedInABackground(\n",
    "    backgroundGenerator=synthetic.ZeroOrderBackgroundGenerator(seqLength=500) \n",
    "    , embedders=[\n",
    "        synthetic.RepeatedEmbedder(\n",
    "            embedder=singleCtcfEmbedder\n",
    "            ,quantityGenerator=truncatedPoissonGenerator\n",
    "        ),\n",
    "        synthetic.XOREmbedder(\n",
    "            embedder1=singleSpi1Embedder\n",
    "            ,embedder2=singleIRFembedder\n",
    "            ,probOfFirst=0.5 \n",
    "        )\n",
    "    ]\n",
    ");"
   ]
  },
  {
   "cell_type": "code",
   "execution_count": 14,
   "metadata": {
    "collapsed": false
   },
   "outputs": [
    {
     "name": "stdout",
     "output_type": "stream",
     "text": [
      "{\n",
      "    \"numSeq\": 10, \n",
      "    \"singleSequenceGenerator\": {\n",
      "        \"class\": \"EmbedInABackground\", \n",
      "        \"namePrefix\": \"synth\", \n",
      "        \"backgroundGenerator\": {\n",
      "            \"class\": \"zeroOrderMarkovBackground\", \n",
      "            \"length\": 500, \n",
      "            \"distribution\": {\n",
      "                \"A\": 0.3, \n",
      "                \"C\": 0.2, \n",
      "                \"G\": 0.2, \n",
      "                \"T\": 0.3\n",
      "            }\n",
      "        }, \n",
      "        \"embedders\": [\n",
      "            {\n",
      "                \"class\": \"RepeatedEmbedder\", \n",
      "                \"embedder\": {\n",
      "                    \"substringGenerator\": {\n",
      "                        \"class\": \"PwmSampler\", \n",
      "                        \"motifName\": \"CTCF_known1\", \n",
      "                        \"loadedMotifs\": {\n",
      "                            \"fileName\": \"motifs.txt\", \n",
      "                            \"pseudocountProb\": 0.001, \n",
      "                            \"background\": {\n",
      "                                \"A\": 0.3, \n",
      "                                \"C\": 0.2, \n",
      "                                \"G\": 0.2, \n",
      "                                \"T\": 0.3\n",
      "                            }\n",
      "                        }\n",
      "                    }, \n",
      "                    \"positionGenerator\": \"uniform\"\n",
      "                }, \n",
      "                \"quantityGenerator\": {\n",
      "                    \"min\": 1, \n",
      "                    \"max\": 5, \n",
      "                    \"quantityGenerator\": \"poisson-3\"\n",
      "                }\n",
      "            }, \n",
      "            {\n",
      "                \"class\": \"XOREmbedder\", \n",
      "                \"embedder1\": {\n",
      "                    \"substringGenerator\": {\n",
      "                        \"class\": \"BestHitPwm\", \n",
      "                        \"pwm\": \"SPI1_known1\", \n",
      "                        \"bestHitMode\": \"logOdds\", \n",
      "                        \"loadedMotifs\": {\n",
      "                            \"fileName\": \"motifs.txt\", \n",
      "                            \"pseudocountProb\": 0.001, \n",
      "                            \"background\": {\n",
      "                                \"A\": 0.3, \n",
      "                                \"C\": 0.2, \n",
      "                                \"G\": 0.2, \n",
      "                                \"T\": 0.3\n",
      "                            }\n",
      "                        }\n",
      "                    }, \n",
      "                    \"positionGenerator\": \"outsideCentral-400\"\n",
      "                }, \n",
      "                \"embedder2\": {\n",
      "                    \"substringGenerator\": {\n",
      "                        \"class\": \"BestHitPwm\", \n",
      "                        \"pwm\": \"IRF_known1\", \n",
      "                        \"bestHitMode\": \"logOdds\", \n",
      "                        \"loadedMotifs\": {\n",
      "                            \"fileName\": \"motifs.txt\", \n",
      "                            \"pseudocountProb\": 0.001, \n",
      "                            \"background\": {\n",
      "                                \"A\": 0.3, \n",
      "                                \"C\": 0.2, \n",
      "                                \"G\": 0.2, \n",
      "                                \"T\": 0.3\n",
      "                            }\n",
      "                        }\n",
      "                    }, \n",
      "                    \"positionGenerator\": \"uniform\"\n",
      "                }, \n",
      "                \"probOfFirst\": 0.5\n",
      "            }\n",
      "        ]\n",
      "    }\n",
      "}\n"
     ]
    }
   ],
   "source": [
    "sequenceSet = synthetic.GenerateSequenceNTimes(embedInBackground, 10)\n",
    "print json.dumps(sequenceSet.getJsonableObject(), indent=4)"
   ]
  },
  {
   "cell_type": "code",
   "execution_count": 17,
   "metadata": {
    "collapsed": false
   },
   "outputs": [
    {
     "name": "stdout",
     "output_type": "stream",
     "text": [
      "synth12 ('CTTCCACTAGGTGGCGGCA', 153) | ('ATTCCACAAGGTGGCGTTA', 231) | ('CCACCACGAGGGGGCGGCC', 67) | ('AGAGGAAG', 481)\n",
      "synth13 ('TCGCCACCAGGGGGCGGTC', 27) | ('GAAAAGCGAAACC', 120)\n",
      "synth14 ('TAACCAGTAGGGGGCGGTG', 58) | ('GAAAAGCGAAACC', 279)\n",
      "synth15 ('TGGCCAGGAGGTGGAACCT', 350) | ('GAGCCACCAGGTGGCGCTC', 115) | ('AGAGGAAG', 22)\n",
      "synth16 ('TGACCACCAGGGGGCTACC', 463) | ('CGTCCACTAGGCGGCGGAC', 57) | ('AGAGGAAG', 5)\n",
      "synth17 ('TAGCCAGAAGAGGGCGCTG', 22) | ('AGAGGAAG', 483)\n",
      "synth18 ('GGACCTGTAGGGGACGCCC', 6) | ('ATTCCAGTAGGGGTCGCCC', 431) | ('GAAAAGCGAAACC', 189)\n",
      "synth19 ('AGACCACTGGGTGTCAGAG', 234) | ('ACGCCACCAGGGGGCAGCG', 280) | ('TCACCAGTAGAGGGCGGTA', 325) | ('TGGCCAGCAGGGGACACCG', 24) | ('CCGCCAGCAGAGGGCGCTC', 421) | ('GAAAAGCGAAACC', 90)\n",
      "synth20 ('CTTCCAGCAGAGGGCAGTG', 118) | ('TCTACACCAGGTGGCGCTA', 411) | ('TCGCCGCCAGGGGGCGCTA', 245) | ('GAAAAGCGAAACC', 451)\n",
      "synth21 ('TAACCAGTAGGGGGCAGTA', 302) | ('TAGCCACGAGAGGGCGCCC', 466) | ('AGAGGAAG', 10)\n"
     ]
    }
   ],
   "source": [
    "for generatedSeq in sequenceSet.generateSequences():\n",
    "    #print generatedSeq.seqName, generatedSeq.seq, \" | \".join(str((x.what, x.startPos)) for x in generatedSeq.embeddings)\n",
    "    print generatedSeq.seqName, \" | \".join(str((x.what, x.startPos)) for x in generatedSeq.embeddings)"
   ]
  },
  {
   "cell_type": "code",
   "execution_count": 8,
   "metadata": {
    "collapsed": false
   },
   "outputs": [
    {
     "data": {
      "text/plain": [
       "\"<class 'synthetic.LoadedEncodeMotifs'>\""
      ]
     },
     "execution_count": 8,
     "metadata": {},
     "output_type": "execute_result"
    }
   ],
   "source": [
    "str(loadedMotifs.__class__)"
   ]
  },
  {
   "cell_type": "code",
   "execution_count": null,
   "metadata": {
    "collapsed": true
   },
   "outputs": [],
   "source": []
  },
  {
   "cell_type": "code",
   "execution_count": null,
   "metadata": {
    "collapsed": true
   },
   "outputs": [],
   "source": []
  }
 ],
 "metadata": {
  "kernelspec": {
   "display_name": "Python 2",
   "language": "python",
   "name": "python2"
  },
  "language_info": {
   "codemirror_mode": {
    "name": "ipython",
    "version": 2
   },
   "file_extension": ".py",
   "mimetype": "text/x-python",
   "name": "python",
   "nbconvert_exporter": "python",
   "pygments_lexer": "ipython2",
   "version": "2.7.9"
  }
 },
 "nbformat": 4,
 "nbformat_minor": 0
}
