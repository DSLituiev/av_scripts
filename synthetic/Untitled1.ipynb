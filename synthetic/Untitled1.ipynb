{
 "cells": [
  {
   "cell_type": "code",
   "execution_count": 1,
   "metadata": {
    "collapsed": false
   },
   "outputs": [],
   "source": [
    "import synthetic;\n",
    "import json\n",
    "pathToMotifs = \"motifs.txt\";\n",
    "loadedMotifs = synthetic.LoadedEncodeMotifs(pathToMotifs, pseudocountProb=0.001)\n",
    "\n",
    "ctcfSampler = synthetic.PwmSamplerFromLoadedMotifs(loadedMotifs,motifName=\"CTCF_known1\")\n"
   ]
  },
  {
   "cell_type": "code",
   "execution_count": 2,
   "metadata": {
    "collapsed": false
   },
   "outputs": [],
   "source": [
    "spi1Sampler = synthetic.BestHitPwmFromLoadedMotifs(loadedMotifs,motifName=\"SPI1_known1\")\n",
    "\n",
    "singleCtcfEmbedder = synthetic.SubstringEmbedder(substringGenerator=ctcfSampler\n",
    "                                                ,positionGenerator=synthetic.UniformPositionGenerator())"
   ]
  },
  {
   "cell_type": "code",
   "execution_count": 3,
   "metadata": {
    "collapsed": false
   },
   "outputs": [],
   "source": [
    "singleSpi1Embedder = synthetic.SubstringEmbedder(substringGenerator=spi1Sampler\n",
    "                                                ,positionGenerator=synthetic.OutsideCentralBp(400))\n",
    "\n",
    "truncatedPoissonGenerator=synthetic.MinMaxWrapper(quantityGenerator=synthetic.PoissonQuantityGenerator(3)\n",
    "                                                    ,theMin=1,theMax=5)"
   ]
  },
  {
   "cell_type": "code",
   "execution_count": 4,
   "metadata": {
    "collapsed": false
   },
   "outputs": [],
   "source": [
    "zeroInflater = synthetic.ZeroInflater(quantityGenerator=synthetic.PoissonQuantityGenerator(5), zeroProb=0.5)"
   ]
  },
  {
   "cell_type": "code",
   "execution_count": 5,
   "metadata": {
    "collapsed": false
   },
   "outputs": [],
   "source": [
    "singleIRFembedder = synthetic.SubstringEmbedder(\n",
    "                substringGenerator=synthetic.BestHitPwmFromLoadedMotifs(loadedMotifs,motifName=\"IRF_known1\")\n",
    "                ,positionGenerator=synthetic.UniformPositionGenerator())\n",
    "\n",
    "embedInBackground = synthetic.EmbedInABackground(\n",
    "    backgroundGenerator=synthetic.ZeroOrderBackgroundGenerator(seqLength=500) \n",
    "    , embedders=[\n",
    "        #synthetic.RepeatedEmbedder(\n",
    "        #    embedder=singleCtcfEmbedder\n",
    "        #    ,quantityGenerator=truncatedPoissonGenerator\n",
    "        #),\n",
    "        synthetic.XOREmbedder(\n",
    "            embedder1=singleSpi1Embedder\n",
    "            ,embedder2=singleIRFembedder\n",
    "            ,probOfFirst=0.5 \n",
    "        )\n",
    "    ]\n",
    ");"
   ]
  },
  {
   "cell_type": "code",
   "execution_count": 6,
   "metadata": {
    "collapsed": false
   },
   "outputs": [
    {
     "name": "stdout",
     "output_type": "stream",
     "text": [
      "{\n",
      "    \"numSeq\": 10, \n",
      "    \"sequenceGenerator\": {\n",
      "        \"class\": \"EmbedInABackground\", \n",
      "        \"namePrefix\": \"synth\", \n",
      "        \"backgroundGenerator\": \"zeroOrderBackground-500\", \n",
      "        \"embedders\": [\n",
      "            {\n",
      "                \"class\": \"XOREmbedder\", \n",
      "                \"embedder1\": {\n",
      "                    \"substringGenerator\": {\n",
      "                        \"motifName\": \"SPI1_known1\", \n",
      "                        \"pwmSubstringGenerator\": \"bestHit-SPI1_known1\", \n",
      "                        \"loadedMotifs\": {\n",
      "                            \"fileName\": \"motifs.txt\", \n",
      "                            \"pseudocountProb\": 0.001\n",
      "                        }\n",
      "                    }, \n",
      "                    \"positionGenerator\": \"outsideCentral-400\"\n",
      "                }, \n",
      "                \"embedder2\": {\n",
      "                    \"substringGenerator\": {\n",
      "                        \"motifName\": \"IRF_known1\", \n",
      "                        \"pwmSubstringGenerator\": \"bestHit-IRF_known1\", \n",
      "                        \"loadedMotifs\": {\n",
      "                            \"fileName\": \"motifs.txt\", \n",
      "                            \"pseudocountProb\": 0.001\n",
      "                        }\n",
      "                    }, \n",
      "                    \"positionGenerator\": \"uniform\"\n",
      "                }, \n",
      "                \"probOfFirst\": 0.5\n",
      "            }\n",
      "        ]\n",
      "    }\n",
      "}\n"
     ]
    }
   ],
   "source": [
    "sequenceSet = synthetic.GenerateSequenceNTimes(embedInBackground, 10)\n",
    "print json.dumps(sequenceSet.getJsonableObject(), indent=4)"
   ]
  },
  {
   "cell_type": "code",
   "execution_count": 7,
   "metadata": {
    "collapsed": false
   },
   "outputs": [
    {
     "name": "stdout",
     "output_type": "stream",
     "text": [
      "synth1 CGGTGTTTCAGCTCTGAAAGAGGAAGTAACATATGTCTAGACATAATCGGGACGCCAATTCATGCTGGTGCAAATGGTTAATATTATGGACGATTGTTTTGCATATCTGGGTCGTCATAAGGACTTTGTATAACCATAGCTTTAAGAGATTAGGTTTTTGCATTTTGTTCGGATACCAGAGAGCAACTATTCAGGGTGTTCTGGAAAATGTATTTAGATAATATATCCCATTTAGGACAGTCGTGCGGCATTTAGCGTCCTTAGCACAAAGCAAACAATCGCGCATTATGCTATCATTACTTTAATACTCTTACACTCATCCCGAATCCTTCGGCTATTTGCAAAAGTACGACTGGCTTTATGCCACCACTCGACCATACCTATTATTCTCTTTTTGTAATTAAACTTCAGTCTACCACGGTCGTGTTCGTAAGTGAGTAGTGATAAAGAAGTTCAAGACTCGCAATATCATACTAGCCCTAATCAAATATTTACATAGC ('AGAGGAAG', 18)\n",
      "synth2 ATCCCATGTCACATTTTTCCTAACGCACTCCGTAACTTCCCGTATACAGCTCACATAGCGTATGCAAGGCGCAAACGACTATCTTATTATATTAAATCGTTAGTCTGTTGCATACACATTCTTATTTACTCCCCTCAATTGATAGCGCATAAGCGATCGTCTAATCTATACTAAATGTCTGCCTGTGCGATTTTATTTGAGAATGGTCCTGGGGAGAACAAACATTTCTCATGGTTAGTGATCGTCTCATCTAGGAAATCAGTTAGTCAGCCTAAAGTATAGTGGAAGTAGCAACGCCATCCTAGATCCATACCACAGTGTAAATACCGTGATATGTGCGAGATTAATGGAGTCTTTTAAAGCGGATCTAGCCGCTAAGTCTGTCCGTCCCTTTTCTTGAGATTGGCATATGGTCGACTAACAACTTTAAATTTGAAGCTTAGGCAACTCCACTATCTCGGTCGACGAGAAAAGTGAAACCAGATCGCTGTTAACCGAAC ('GAAAAGTGAAACC', 468)\n",
      "synth3 GATGAGGGGGAGTTTCTAAAGCTGAGAGGTGGCCGTTCGCGGGTGATAATAATAGGGTAGATAAGTTCTCTTCTAAACTTGCGCGGTTTCATTCTTAACCGAGGCCTAGGACTTATGCGTATAACAGTGATTTGCGCATGACAAAGGGGACTCTCAGAACTTCAGAAAAGTGAAACCTCGTTGTACTAATCGTATTGTGACGTTTAGCTGTACGCTTGTGGTCTTGTCCACTAAATTTTTCAATTTTAAAACTAGGCTATTACTCGTAACTACCGAGGTTATCGTATATAATCTGCATATTAAGAAGTTGTTCGTATAGTTGAAACCGCTTCTGTGTGATCGTCCTTCCGAATAACTAATTGCATGGGTGATTGATGATTTTCAAATATGGATTATATAAAGTCGTTTCTAGGTATAGTTAAGGTCAGGTCAATCAGAAGAGTCGGAAGAAGCGTAATATAGATGCAGGGGTAACGGCGGTCTGACGTTAAACTGGTTGT ('GAAAAGTGAAACC', 164)\n",
      "synth4 TTTAGCAAATGCCGGCTATTGTTAGTCGTATGATATTTTGACGATGAAACGGTAATCGGTGTTAGTCGTGCCCACAGTAGCGTATGCGGTCGACCTTTCTAGGTATAGTAATCTATTGGTCAGAGACAGTTTTAGGCCGCCATTTTATTATCACTTGTGGATTGTAGCTCAAGCTCGGAACTAGTGAGGAAGGCGTATGCGTATTGACGCCCGTTGTGGCAAGCTGATAATGGATTAAGAAATTGGACCCCTCCTTTTATCACAATAAGATGGGACCAAAGTAGAGTAAATGCTCTTCGCGATCCACTCATCCGTTATAACTGATGTATCTAGTTTCTTAATAACAGTGTACTAATGGTATTACTCCTACGCGGTGAAGGGCTCCATTGGCGCCATTTCATGCCGGCAGTAGATTTATAATAATGCTAAGTGCGTCGAAAAGTGAAACCATTCGACTTCTCTTTTTAGTGAGAACAGCTTCCATCAAGCATTCCCCCAGA ('GAAAAGTGAAACC', 436)\n",
      "synth5 AGCTACCAAGAACCACCAATTTGTATCACCATACCTATTCATTGTAAAGTAATCTAAAAAACCAAATAATCTGGGATGTGCATGAGGAAGTCTGTGGCTCATGTTTGTATGACTCCGTACATGAAATTCGATTTTATGATTTAGAAACTAAAGATGCCCCACCATCATAGGCACGTAGCTTCATACATAGGGGCAATTAAACCCGCTGATAACGTCGTGAATGAAAAGTGAAACCATGCTGTCCCCAGTATTTACGATGACTTGTTGTGATTAGGCATCCTATGTCTATCCTTGCAAGTTGGAAAAACTTACACAATGGCGCCGATGACAAGACATAACAACTCTGCTACCTAAACTATACTAGATTGAAATTTGCGTCTAAGGTTTGAAAAGTAGTTAAGAGAGACAGCTCACTCCACGATCCGACGGAAACTGAGTGTCTCAAGTACTATTCAGTAAACACTTGTGGACAGAGATTAAACCAAGAGGGAGTATTAAGG ('GAAAAGTGAAACC', 222)\n",
      "synth6 GGAACTTGAGAGGAAGGAACTATCCTCCTGATAGTTATAGGTGAGTCTCCGTAAAGCCTCGTGAATAGTCTTATACATAGGTACTAGAAGGATATAAACGATTTGAACACTCAGTAGGGCGATCAGTCTTTCGTAGCTAGCGGTAGAATGGTTAATAGGTCGCCTTAAAGTTGTCTATGTATAAAGGCCATCCGACGATCTAGTCACTAAGGCAGTGAGAATGTTACTGACAGGGATTTGAATTTAATTGAACCCTCCATTTTTCCGAAACAGGGTAGTGATGGAGTATTACATTTGGCAGCAGACTCTATAATGCACGGAGAGTTCAAAGCATGCGAAGAGTTAGATTTTTTCTTGTCGGGGTGAAGGGCTCTTCTCATTATTATCACCTACGAAGGGAAGGATTAGCTCGGAATAGGCCGCACTTAGAGCCCGATTCATAAGACATTACATAGTCCCATGTCAATTCCACTGTAGGGTCAATCCATTTAAATACTCTA ('AGAGGAAG', 8)\n",
      "synth7 TGTGGGAATCATTGCAAGCGTCAAAGAGTACGAGCCAATAAACCCCGGATAGTATTCGTGATCTAAGCGGATATAACGTAGTTATTCTGCAATATACGATTGCATTAGTATGTCAATCATACTATTTATGGCATGCCGAATCTGTGTCGTAGTATTTACAGGTTGATAACTTTTACCACGCGCCGCAATATAAGTAAAAAACGCTGATCAACCGCTGCACAATAGCTTACAGTACTAAGTGATGCGTCCATGCAAGGGATTATTCAGAATATTATATCCAAGGACCGAAACATTGCGTATATGGACGACGCTGAAAGGGATACTAGGAAGCCAAATAAGAGACAGGTGTGGTATGCCGTTAGAGAATGATATAATAGTGACTTACGGATCGCGATTTAATGAGACGGGGGGTGAGCTAAATAGCAGTTATTATATATTACCTGAAAGCCTGGAATGATCACCGTCCGGCGTAGACTGCAATCTTGGTAAGAGGAAGTACT ('AGAGGAAG', 488)\n",
      "synth8 CGCAGAAGCAAGTGTTATGCCTGACTGAAGGTAATCGTCAGAGGAAGGTGCTTCCTTCTAGATTACAAATCTGGCGAGAATCATGTAATTATCTACATAACGTTAGCTAAGAAATTCCTGTGGGAAGTCCATAAGTCAAACTCTTGTACCAATCCACCAAACTTTACGACGAAATGTATTTCAATTCCCGTAGTTCAATACCGTTTGAGGGTTTCTAATCAGCCGAAATAATGCATCCAACTTCCGCTATAGCGCCAATCCACTTATATATGGTGAGCCGATTGGCGCGGAAAAGGTGTGCAACAGAAATAAATGTTGAGATACACCAATTCTAGTGTAACCCAGTTACCAGCTATTATATGACGTTTAGGCAGATCAAATCCTATACAGTCAAGCGCGATACTGGGAGGTATATTAAGGTCTGTCTAATTTCGTACAACGCCTGAGTGATTCAATTTAGTTCCTGCAATTACAAAAAACTAATGAGATAATAATCAGGT ('AGAGGAAG', 39)\n",
      "synth9 GAGAGGAAGCTACCAGATAATAAAATAGATGGGAACATCTACTCAGCAAACCTACACATGACTCGCGGATGCATGGTCCAGAATTTGAACTATTAAGCTGTATTTTGAAATGTATGTAGATGATGTTATAACTTGATGCTCTCGAAGAACGCTTGTCGTAGATACCACTGGTAGGATCATAGGAGTCCTGACATAAACCCTTAACGCTAATTTAGTCTACGCGTTGGTTCAGTTATCCTATGGAATTTGACTCTTAATTTTGACTTGCTAGGTAGGAACCATGGGGGGGCACAGCCACAGAAAGAACCAACTTTAGTCGTTTTCAAATTAGCGAATTATGCAGACAGCCATATCCCAGTAGGCCTCATAGCAGAACCATTAGGTTAGCATCACTCAGTCAGCCCACCAGTGGCTGTGAAGCCTATAACACATCTAAGCACAATTAAATACTCTGTGGCTCTACACCCTTAGCCTTATACGCAGGTTAAAATGGTAGGGAT ('AGAGGAAG', 1)\n",
      "synth10 AAAGCCCACTAGAGGAAGTCGTTGTACCAATACGGGCGACCAACGATTATATTTTGGGATTATTAATATGGAAAGAGGGAAGGTGACCAGAGTCATTTTGCCACGCCCTGCACACATGTAAATGACAAGCCACATAACTGCTTACCAACGGGATATCTCTAGGCATCGTGGGTTATGCGATCCTGTTCCGGAACATCTGACAGTAATATTGTGTAATCGAGAGATAAAAAAGTGTGGGAAAATTATTTGGTCGCACTAGAGTTACCCTATGACGATGGACGAGAGTTTAATATTCAAAGATAGTATACCCATATGGGCCGGGAAGACCAAGTACATTGTGAAAGTTCTTATAAATAGCCGCTATCACTCGAATACTATCGCTTTACATCTTGACTGAAATGCAAGTACTTTTTTACAAACATTACATAACCTACTATTATTGCCCGCATATGGTTTGGTTTTATCTGGATTAACAACTTAGCAAGTGAAGGAGGGGTTGC ('AGAGGAAG', 10)\n"
     ]
    }
   ],
   "source": [
    "for generatedSeq in sequenceSet.generateSequences():\n",
    "    print generatedSeq.seqName, generatedSeq.seq, \" | \".join(str((x.seq, x.startPos)) for x in generatedSeq.embeddings)"
   ]
  },
  {
   "cell_type": "code",
   "execution_count": 8,
   "metadata": {
    "collapsed": false
   },
   "outputs": [
    {
     "data": {
      "text/plain": [
       "\"<class 'synthetic.LoadedEncodeMotifs'>\""
      ]
     },
     "execution_count": 8,
     "metadata": {},
     "output_type": "execute_result"
    }
   ],
   "source": [
    "str(loadedMotifs.__class__)"
   ]
  },
  {
   "cell_type": "code",
   "execution_count": null,
   "metadata": {
    "collapsed": true
   },
   "outputs": [],
   "source": []
  },
  {
   "cell_type": "code",
   "execution_count": null,
   "metadata": {
    "collapsed": true
   },
   "outputs": [],
   "source": []
  }
 ],
 "metadata": {
  "kernelspec": {
   "display_name": "Python 2",
   "language": "python",
   "name": "python2"
  },
  "language_info": {
   "codemirror_mode": {
    "name": "ipython",
    "version": 2
   },
   "file_extension": ".py",
   "mimetype": "text/x-python",
   "name": "python",
   "nbconvert_exporter": "python",
   "pygments_lexer": "ipython2",
   "version": "2.7.9"
  }
 },
 "nbformat": 4,
 "nbformat_minor": 0
}
