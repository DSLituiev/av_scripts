{
 "cells": [
  {
   "cell_type": "code",
   "execution_count": 3,
   "metadata": {
    "collapsed": false
   },
   "outputs": [],
   "source": [
    "import synthetic;\n",
    "pathToMotifs = \"motifs.txt\";\n",
    "loadedMotifs = synthetic.LoadedEncodeMotifs(pathToMotifs, pseudocountProb=0.001)\n",
    "\n",
    "ctcfSampler = synthetic.PwmSamplerFromLoadedMotifs(loadedMotifs,motifName=\"CTCF_known1\")\n",
    "sp1Sampler = synthetic.BestHitPwmFromLoadedMotifs(loadedMotifs,motifName=\"SP1_known1\")\n",
    "\n",
    "singleCtcfEmbedder = synthetic.SubstringEmbedder(substringGenerator=ctcfSampler\n",
    "                                                ,positionGenerator=synthetic.UniformPositionGenerator())\n",
    "singleSp1Embedder = synthetic.SubstringEmbedder(substringGenerator=sp1Sampler\n",
    "                                                ,positionGenerator=synthetic.OutsideCentralBp(400))\n",
    "\n",
    "truncatedPoissonGenerator=synthetic.MinMaxWrapper(quantityGenerator=synthetic.PoissonQuantityGenerator(3)\n",
    "                                                    ,theMin=1,theMax=5)\n",
    "zeroInflater = synthetic.ZeroInflater(quantityGenerator=synthetic.PoissonQuantityGenerator(5), zeroProb=0.5)\n",
    "\n",
    "embedInBackground = synthetic.EmbedInABackground(\n",
    "    backgroundGenerator=synthetic.ZeroOrderBackgroundGenerator(seqLength=500) \n",
    "    , embedders=[\n",
    "        synthetic.RepeatedEmbedder(\n",
    "            embedder=singleCtcfEmbedder\n",
    "            ,quantityGenerator=truncatedPoissonGenerator\n",
    "        )\n",
    "        ,synthetic.RepeatedEmbedder(\n",
    "            embedder=singleSp1Embedder\n",
    "            ,quantityGenerator=synthetic.FixedQuantityGenerator(1) \n",
    "        )\n",
    "    ]\n",
    ");"
   ]
  },
  {
   "cell_type": "code",
   "execution_count": 6,
   "metadata": {
    "collapsed": false
   },
   "outputs": [
    {
     "name": "stdout",
     "output_type": "stream",
     "text": [
      "GGTCTTCACCAGGTGGCACTGACGAATACAGGATAAAATTACGTACAACAGGTGGCACCATAAATATTGCGTAAGGATGTATTGATCCTGAGAACAAGGTAGAATTTTGTTTGTAACGTCACCACAAGAGGGCACAATTAATCACACAGAGTGCTCTTGTTCACTTCGCTCGGAAATGTTGCTCTTCCTATACCTTCAGACAATATGAGTCCAGAAGGGGGCGAGTGAATACAGCGCGGACCGGTACTAAACAGGCTGCTGTACGATGTCTTACCACTAGAGGGAGGTGGAAAATTGGATACAAACAAGCGCCCCGTTCGTCATATTGAAAGGGGTCTTCTTAGAAGTAAATCTCTCTTTACACCCAATAAAACTTGGTCAGCCACGCGTCACGCGTAGTCACAGGGACAGATTAGACACACAGACAGTTAATTGAGTGATTAGTGATATTCATATCTTGCCCCTAATAGGGGCGGGGTGAGAGTTAAGTAGTAAGTCAT \n",
      "synth3 \n",
      "('TCACCACAAGAGGGCACAA', 118)\n",
      "('AGTCCAGAAGGGGGCGAGT', 207)\n",
      "('TCTTCACCAGGTGGCACTG', 2)\n",
      "('TTACCACTAGAGGGAGGTG', 270)\n",
      "('CGTACAACAGGTGGCACCA', 41)\n",
      "('GGGGCGGGGT', 469)\n"
     ]
    }
   ],
   "source": [
    "generatedSeq=embedInBackground.generateSequence();\n",
    "print generatedSeq.seq,\"\\n\", generatedSeq.seqName,\"\\n\", \"\\n\".join(str((x.seq, x.startPos)) for x in generatedSeq.embeddings)"
   ]
  },
  {
   "cell_type": "code",
   "execution_count": null,
   "metadata": {
    "collapsed": true
   },
   "outputs": [],
   "source": []
  },
  {
   "cell_type": "code",
   "execution_count": null,
   "metadata": {
    "collapsed": true
   },
   "outputs": [],
   "source": []
  },
  {
   "cell_type": "code",
   "execution_count": null,
   "metadata": {
    "collapsed": true
   },
   "outputs": [],
   "source": []
  }
 ],
 "metadata": {
  "kernelspec": {
   "display_name": "Python 2",
   "language": "python",
   "name": "python2"
  },
  "language_info": {
   "codemirror_mode": {
    "name": "ipython",
    "version": 2
   },
   "file_extension": ".py",
   "mimetype": "text/x-python",
   "name": "python",
   "nbconvert_exporter": "python",
   "pygments_lexer": "ipython2",
   "version": "2.7.9"
  }
 },
 "nbformat": 4,
 "nbformat_minor": 0
}
