{
 "cells": [
  {
   "cell_type": "code",
   "execution_count": 7,
   "metadata": {
    "collapsed": false
   },
   "outputs": [],
   "source": [
    "import synthetic;\n",
    "import json\n",
    "pathToMotifs = \"motifs.txt\";\n",
    "loadedMotifs = synthetic.LoadedEncodeMotifs(pathToMotifs, pseudocountProb=0.001)\n",
    "\n",
    "ctcfSampler = synthetic.PwmSamplerFromLoadedMotifs(loadedMotifs,motifName=\"CTCF_known1\")\n"
   ]
  },
  {
   "cell_type": "code",
   "execution_count": 8,
   "metadata": {
    "collapsed": false
   },
   "outputs": [],
   "source": [
    "spi1Sampler = synthetic.BestHitPwmFromLoadedMotifs(loadedMotifs,motifName=\"SPI1_known1\", bestHitMode=\"logOdds\")\n",
    "\n",
    "singleCtcfEmbedder = synthetic.SubstringEmbedder(substringGenerator=ctcfSampler\n",
    "                                                ,positionGenerator=synthetic.UniformPositionGenerator())"
   ]
  },
  {
   "cell_type": "code",
   "execution_count": 9,
   "metadata": {
    "collapsed": false
   },
   "outputs": [],
   "source": [
    "singleSpi1Embedder = synthetic.SubstringEmbedder(substringGenerator=spi1Sampler\n",
    "                                                ,positionGenerator=synthetic.OutsideCentralBp(400))\n",
    "\n",
    "truncatedPoissonGenerator=synthetic.MinMaxWrapper(quantityGenerator=synthetic.PoissonQuantityGenerator(3)\n",
    "                                                    ,theMin=1,theMax=5)"
   ]
  },
  {
   "cell_type": "code",
   "execution_count": 10,
   "metadata": {
    "collapsed": false
   },
   "outputs": [],
   "source": [
    "zeroInflater = synthetic.ZeroInflater(quantityGenerator=synthetic.PoissonQuantityGenerator(5), zeroProb=0.5)"
   ]
  },
  {
   "cell_type": "code",
   "execution_count": 12,
   "metadata": {
    "collapsed": false
   },
   "outputs": [],
   "source": [
    "singleIRFembedder = synthetic.SubstringEmbedder(\n",
    "                substringGenerator=synthetic.BestHitPwmFromLoadedMotifs(loadedMotifs,motifName=\"IRF_known1\",bestHitMode=\"logOdds\")\n",
    "                ,positionGenerator=synthetic.UniformPositionGenerator())\n",
    "\n",
    "embedInBackground = synthetic.EmbedInABackground(\n",
    "    backgroundGenerator=synthetic.ZeroOrderBackgroundGenerator(seqLength=500) \n",
    "    , embedders=[\n",
    "        synthetic.RepeatedEmbedder(\n",
    "            embedder=singleCtcfEmbedder\n",
    "            ,quantityGenerator=truncatedPoissonGenerator\n",
    "        ),\n",
    "        synthetic.XOREmbedder(\n",
    "            embedder1=singleSpi1Embedder\n",
    "            ,embedder2=singleIRFembedder\n",
    "            ,probOfFirst=0.5 \n",
    "        )\n",
    "    ]\n",
    ");"
   ]
  },
  {
   "cell_type": "code",
   "execution_count": 14,
   "metadata": {
    "collapsed": false
   },
   "outputs": [
    {
     "name": "stdout",
     "output_type": "stream",
     "text": [
      "{\n",
      "    \"numSeq\": 10, \n",
      "    \"singleSequenceGenerator\": {\n",
      "        \"class\": \"EmbedInABackground\", \n",
      "        \"namePrefix\": \"synth\", \n",
      "        \"backgroundGenerator\": {\n",
      "            \"class\": \"zeroOrderMarkovBackground\", \n",
      "            \"length\": 500, \n",
      "            \"distribution\": {\n",
      "                \"A\": 0.3, \n",
      "                \"C\": 0.2, \n",
      "                \"G\": 0.2, \n",
      "                \"T\": 0.3\n",
      "            }\n",
      "        }, \n",
      "        \"embedders\": [\n",
      "            {\n",
      "                \"class\": \"RepeatedEmbedder\", \n",
      "                \"embedder\": {\n",
      "                    \"substringGenerator\": {\n",
      "                        \"class\": \"PwmSampler\", \n",
      "                        \"motifName\": \"CTCF_known1\", \n",
      "                        \"loadedMotifs\": {\n",
      "                            \"fileName\": \"motifs.txt\", \n",
      "                            \"pseudocountProb\": 0.001, \n",
      "                            \"background\": {\n",
      "                                \"A\": 0.3, \n",
      "                                \"C\": 0.2, \n",
      "                                \"G\": 0.2, \n",
      "                                \"T\": 0.3\n",
      "                            }\n",
      "                        }\n",
      "                    }, \n",
      "                    \"positionGenerator\": \"uniform\"\n",
      "                }, \n",
      "                \"quantityGenerator\": {\n",
      "                    \"min\": 1, \n",
      "                    \"max\": 5, \n",
      "                    \"quantityGenerator\": \"poisson-3\"\n",
      "                }\n",
      "            }, \n",
      "            {\n",
      "                \"class\": \"XOREmbedder\", \n",
      "                \"embedder1\": {\n",
      "                    \"substringGenerator\": {\n",
      "                        \"class\": \"BestHitPwm\", \n",
      "                        \"pwm\": \"SPI1_known1\", \n",
      "                        \"bestHitMode\": \"logOdds\", \n",
      "                        \"loadedMotifs\": {\n",
      "                            \"fileName\": \"motifs.txt\", \n",
      "                            \"pseudocountProb\": 0.001, \n",
      "                            \"background\": {\n",
      "                                \"A\": 0.3, \n",
      "                                \"C\": 0.2, \n",
      "                                \"G\": 0.2, \n",
      "                                \"T\": 0.3\n",
      "                            }\n",
      "                        }\n",
      "                    }, \n",
      "                    \"positionGenerator\": \"outsideCentral-400\"\n",
      "                }, \n",
      "                \"embedder2\": {\n",
      "                    \"substringGenerator\": {\n",
      "                        \"class\": \"BestHitPwm\", \n",
      "                        \"pwm\": \"IRF_known1\", \n",
      "                        \"bestHitMode\": \"logOdds\", \n",
      "                        \"loadedMotifs\": {\n",
      "                            \"fileName\": \"motifs.txt\", \n",
      "                            \"pseudocountProb\": 0.001, \n",
      "                            \"background\": {\n",
      "                                \"A\": 0.3, \n",
      "                                \"C\": 0.2, \n",
      "                                \"G\": 0.2, \n",
      "                                \"T\": 0.3\n",
      "                            }\n",
      "                        }\n",
      "                    }, \n",
      "                    \"positionGenerator\": \"uniform\"\n",
      "                }, \n",
      "                \"probOfFirst\": 0.5\n",
      "            }\n",
      "        ]\n",
      "    }\n",
      "}\n"
     ]
    }
   ],
   "source": [
    "sequenceSet = synthetic.GenerateSequenceNTimes(embedInBackground, 10)\n",
    "print json.dumps(sequenceSet.getJsonableObject(), indent=4)"
   ]
  },
  {
   "cell_type": "code",
   "execution_count": 16,
   "metadata": {
    "collapsed": false
   },
   "outputs": [
    {
     "name": "stdout",
     "output_type": "stream",
     "text": [
      " synth2 TGTTCGTAAGAGACAATTTCTGCATGCGTTAAAAGAACATATTAATATTTCTAAAAGCATGATATCGATCATTGTGCTTACTAATGATAACCCGAGAGCGATTCTGAATAATTCAACCCCTCGGAAGTATGGCCGATGCATCATCGGTTTAGTGATAACCAAATTTCCTTCGTGAATATGAAAAGCGAAACCAAATTCATGGAACTATACCGCTTTGAGTGAGTAAAGGAGAGGACTATCCAGAATCGTATCCCTGCTAAGCGAATGCATCGAACTGTAATGGTTATCCGCCAGTAGGTGGCGCCGAGAAAACAATTTGTCGCATGTATTTCACACGTTGCAGTCATTTACCATGATCCCACATTTTTTTTCTATAGTTGAATTACCTGTGCTTACGTCATGGTCCTAGATTGTAGAAGTTTTTAAAGGATGTTATTAAATGTCAGGAAAACTTAGGGCCCTGGTATATTTGTTTTGGAGATACAGACAAGTAACTTCAT ('CCGCCAGTAGGTGGCGCCG', 287) | ('GAAAAGCGAAACC', 179)\n",
      "synth3 GTAAGTATACTTTTAAGAGGAAGGCCCCCACCATAGATCAGGCAAATGGTAAGGTGCTTCTCGGTTAAGAAAACGTAAGCATCTATTCTCTCTCTACGCCAATCGGCCTTAACACATCAGTATGGCAGGACATGTGAATGAATCGATGGGGCGTCAAGTTGCTGTGGGTTCAGACTTATAATAATTGATCGATCCGAATACATTGTTTCATGAAGAATGTAGGCATGTCAAACGTAGTCAGTAGGTGGCACCAGGAACATATTAGATTTAACTTTTGGCTAGTATACAGCTCCTTCTGTGGCCCCTAGGGGGCGGTACTGAGAGTCAGTTTTACGGAAAAGAGTAATCTCAACATATGAGAATACTCCGACAATTTCCGCGATTACGGTTGGAATTAAGCACGCTAATGTAAGATCAGCAACTGCCGCGCCGCCTGAGGTCGATGATTTTATGTTGAGGCATGACCTCAAGGGGTCGCTAATGAGGCCGTTACCTATACT ('TAGTCAGTAGGTGGCACCA', 234) | ('TGGCCCCTAGGGGGCGGTA', 298) | ('TGACCTCAAGGGGTCGCTA', 461) | ('AGAGGAAG', 15)\n",
      "synth4 TTGGATTACAGCGAATCACGTGAACGTTCCGGCATCCCCCTCCAGGTGGCGGCCCTTGCGTATCTAAGGCGGTTATTAAAATTATACTGCAGAGGGCACTGTTTCGTGATATTGTATAAATTCCAAATATCTAGTGACGTGTCCGAATAGACAAACTTATGAGGTAAGTCAGATACTGATCCTATAATTGACACCAGTAGAGGGCGGTAAAGGAAGTTACGACGTCCCTTATCTTTTTAATTTCTGTAAGTTTTTGTTTAACTGCTTAAATCTTCTAGGAAAAGCGAAACCACTTCGCTTAGTATTATAGGCAGCAGAGGGCGGTCTTCTTTGGTATTGTTTACTTGAATCCAACGTTGAGACCCGTCTGCTAAGGCTTGAACGATATCGTTGAATAGCCTCGTGTCGCCTGTTGATTCATTTTAGCGAAGTAAATTATAAGCTAATGGGTAAACATTCAGGATTAATGTGCGAAATCCGTCGCACATTTATGTTCAGAA ('ACACCAGTAGAGGGCGGTA', 190) | ('CCCCCTCCAGGTGGCGGCC', 35) | ('TAGGCAGCAGAGGGCGGTC', 307) | ('TATACTGCAGAGGGCACTG', 82) | ('GAAAAGCGAAACC', 278)\n",
      "synth5 TGTCACCGGAGAGGAAGTAGATAATTGCTGGTTCGGATTCTGTCTTATTTCTTTTGCTTGACACGACCGTATATCTCTACCATCAAGACTTATCATGCCTATATTGAGCGTGGTATGCATCAAAACATGTGCCGCCAACACTATGACCCCAAGACGGTGGCGTGGAGGGAAGCAGTTACACCCAGGAGGGGGCGATATCTGTTAAGAGACGCCGGATCATTTTTAAATAATTGTAAAGTAACTAATAGGACTAGGTACTGCTACATAAGGGATCTTAATTAAACGTCAAATAAACACTCGGCATCGATGTAACGACACACCGGTTTATTCGATTCCTTGGTGTTGATATCTCTAATTTTAATGTAATAAGTAAGACTTTAACTATTTTCTGCATTATTCCAATTCTGGCCACTAGAGGGCGCTGATAATGTGTTATTACCCTACTTTAGGAATACCATTCCTCATCCGATTGTAAACGGTTCTACTCAAATCTGAAGCAC ('TGGCCACTAGAGGGCGCTG', 405) | ('CACCCAGGAGGGGGCGATA', 178) | ('AGAGGAAG', 9)\n",
      "synth6 TGCGTTATTTCAAATTCATATTGTAGTAACCAGCTCCTAGACAATGTACTATACAGTAATTTGACTTCGATTCTACATGTGAGACTGCTAGTAGCGGGCCACTGGGGGGCGCCACTCTGGGAATCGAATCATTGGACCTTTCTGATCAAAATCTCATTATAACATTTCACCCCTAGACAGGGACGAGATATGATTTACATGAGTTCGTTTATTCCGACAGTCGGCGCCTAAGTCACTCTCCTATACAGGGACATAAAGTTGTCGATCGAATTAAAAATCCAGAATCTCCCGTTTCTCCTATCAAGGCGTGCTCGCGTGAACTATTGACACGCACGTCCACCAGATGGCGCCATGCTCTGAAAGCGTGTGTGAAAAGCGAAACCTTATCGCTGCGGCTTAATACATTTTAGTAATCGGGGTCGGGCATGACAAAATTAAGGACGCATTTACACTGCATGAATCGCCTTCACCTTTCTAATTATTAACCAATTCGTACTTAT ('CGTCCACCAGATGGCGCCA', 333) | ('GGGCCACTGGGGGGCGCCA', 95) | ('GAAAAGCGAAACC', 370)\n",
      "synth7 ACGCTTATGGGGTATCGTACCGTTGTCACCGTCAAAAAGAGGAAGAGGTACACAATATAGAGGTCCCTAACTAGTTCTATTACTCTTTCTACCAATGCCATGTAACTCTACATCGCCAAGTTAATTCGCAATTTTTTTAACTGCTTATCTCTGGTCAAACATTAAGTAAGCGTTAGAAATTCAGGAACAGCCTGAGCTATCCGTTAGACCAATACATTTTAGGGCCAGTCATCAGGCTATTGGCCTAACATCCTGAATTCTAGGAGCACTTAAGGATTGTACTTTGCTTTTTATTACACGTGGTAGGCCTCAGTAATCCTTTAGACGGTAGCATGGGCTTCTAGCCAAATTTACAAATATAAGATAGCAAACCACAAGTAACCTAGAACGATAGACGACTCGGCCGGTAGGTTATAGAATAGTCGCATAGCCAGCAGGTGGCGCTAAGGTCTTTTCGGCGTTGCATTTCTTACTTTGTAATTAGAATCCGAACATTGGGT ('TAGCCAGCAGGTGGCGCTA', 427) | ('AGAGGAAG', 37)\n",
      "synth8 AAGGGGTTTTGTCGCATCCAAAAGCCCAGCAGGGGGCGGTGGTTGTCATTAGTAACCTCATCAAGAACATCCACACAAGATAATCATCCTAGGGTCTATAAAAACAGAATGCCCAACCCACCACTAGAGGGAGGTCGATAACTTAATGATACTCAACAATTAATGAGAGTTGGTTCCAAAATTGATTGAAAGAGGCTAAAATCTGACATGGCGGTCGTAGTTAGAAAAGCGAAACCGAAGATGTTATTCGCCACTAGGGGGCGACATTTTGCGGATGGATATTTGAGGTAGAGACACGGAGGAATGCATTGCTATACCTAATATCAAATTGGTAAGCACACGTCTTAGCGACCATCAGGTGGCAGCGGCTGCTAGAGTAGTTACTGTCCATGATTTCTTCACTTTTTTAATGAAATGTTTTTTAGCGACTGAGGTGCGCTAAGATAGACGGTGTGTTTGTTACTTAGGTTGTCTGCGAATATTCCTACACATCCGAGCCA ('CCACCACTAGAGGGAGGTC', 117) | ('TCGCCACTAGGGGGCGACA', 247) | ('AGCCCAGCAGGGGGCGGTG', 22) | ('CGACCATCAGGTGGCAGCG', 348) | ('GAAAAGCGAAACC', 223)\n",
      "synth9 AAATCACTGACTGACTTGGTGTGAGACGTTGTCTAACTTTGTTTCCAAGTTTGACATTAACTAATGTGCTCAAGAAACAATATAAAAACTCAGTCCTATGTTTCATATCCGAGAGTAGGTGAATCCTACACATCACGACCGGGTATTTTGCGTCGTATCGGGAACTGATGGAAGGTTCGGCAACGAAAGAGAAGGCATATCCAGAATGCTGGCCACCAGGGGACAGCAAGAATAGTATGCCAAGACACAGCCTAGCGCCTGTTACTAAAGAGTAAATATGCACTTATAGCCCAAGGCTTCATACGGCCGATCTGAAGAATACTGAATCCGAACGAGGATTATATCTGCCTGAATTGTAAGTCAGAACTAACTTTCGACGCTGCTGTGCAGATCTGAGGGCTTAATGAACGCAAGTATTACGGCTTCACATTATGAGAGTAATATCGGTTATAAATTTCCGACCAATTCCGAAAAGCGAAACCGGAACAAGTTATTTCGTA ('TGGCCACCAGGGGACAGCA', 209) | ('GAAAAGCGAAACC', 469)\n",
      "synth10 GTAAACAATGAACTCACAGAATGCTTCTATGTGTAGTTGACCCTTGGGACAAGTGATGAGTTAATCAAATTAGGCATCATATAGTTACCGATCAGTATACGCATTGGTTTAACTGTATTCCAACGACACTAGGTGACGCTCAGAAAAGCGAAACCAGGTTATACTAGGCCGCCAGGTGGAGATGATGGTCTTAGGGCTTTTTCGATCAGCGGTTCCACAAGTTTCATTTTCTAGGTAAGACTTAATTGGTTTTGGTGAGTAATGTGATAAAATTACCTAGATAGCCAAATATTACTCTGGACTCACTAACCATAAATAATTACCATGAACGACCGCTTACTCAGCTCACCTTGAAAACCACTAGAGGGCGGCACACAGCCTATATAATTGGTGGCCCCGAGCATTTTGATTCGAAGATAATCAGAACATGAGGGCCCTCTGTTACATCTCAGATATCTTTATATAGTGACTTTTGTTCTAGCCCCTAGGGTCCAGTACAA ('TAGCCCCTAGGGTCCAGTA', 478) | ('ACGACACTAGGTGACGCTC', 122) | ('AAACCACTAGAGGGCGGCA', 354) | ('AGGCCGCCAGGTGGAGATG', 165) | ('GAAAAGCGAAACC', 142)\n",
      "synth11 GATTAAACTTTATCTTGCAGACCAGCAGATGGAAGAGAGAGGAAGTATTGGCGGCGCGTACTGCACGACCAGATTGGTGAGTTGCTATGAAATAGCTGGATTGAGCCCTGACTACAATTTCAGCGTCAACAGACATTTACGTAACTTGCACATAGAGCTTGCAGGTCCAACTCAGCAATGAGATGCGTCTTCAGGTGACCGCCTTATCAGGTGTGCAAAGACTATCAGTTACATTCCTGCCCCCTCTCATACCTCAGGTGCGCCTACCCTAGCCTCTCATGATATAGCTACAATTTAGCCCCAGACCTTGTCCAAAACTCGTTAGACATTATGGACGGTTCATTCCTCGTCCTCATGATAATGTTTTAGCTATAAGAAATCATTAGCAATTTGTCATCGTCATTTTTTTTAGATTTTGTAAGGAGAAACTTATGAAAAGTGTAAAGGCTCATCAGGAATTTCTTGTGTATCAATCACTCTTCGCTGAGGAAACTGTAATT ('AGACCAGCAGATGGAAGAG', 18) | ('AGAGGAAG', 37)\n"
     ]
    }
   ],
   "source": [
    "for generatedSeq in sequenceSet.generateSequences():\n",
    "    #print generatedSeq.seqName, generatedSeq.seq, \" | \".join(str((x.what, x.startPos)) for x in generatedSeq.embeddings)\n",
    "    print generatedSeq.seqName, \" | \".join(str((x.what, x.startPos)) for x in generatedSeq.embeddings)"
   ]
  },
  {
   "cell_type": "code",
   "execution_count": 8,
   "metadata": {
    "collapsed": false
   },
   "outputs": [
    {
     "data": {
      "text/plain": [
       "\"<class 'synthetic.LoadedEncodeMotifs'>\""
      ]
     },
     "execution_count": 8,
     "metadata": {},
     "output_type": "execute_result"
    }
   ],
   "source": [
    "str(loadedMotifs.__class__)"
   ]
  },
  {
   "cell_type": "code",
   "execution_count": null,
   "metadata": {
    "collapsed": true
   },
   "outputs": [],
   "source": []
  },
  {
   "cell_type": "code",
   "execution_count": null,
   "metadata": {
    "collapsed": true
   },
   "outputs": [],
   "source": []
  }
 ],
 "metadata": {
  "kernelspec": {
   "display_name": "Python 2",
   "language": "python",
   "name": "python2"
  },
  "language_info": {
   "codemirror_mode": {
    "name": "ipython",
    "version": 2
   },
   "file_extension": ".py",
   "mimetype": "text/x-python",
   "name": "python",
   "nbconvert_exporter": "python",
   "pygments_lexer": "ipython2",
   "version": "2.7.9"
  }
 },
 "nbformat": 4,
 "nbformat_minor": 0
}
