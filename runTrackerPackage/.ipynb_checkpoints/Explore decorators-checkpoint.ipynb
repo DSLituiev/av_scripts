{
 "cells": [
  {
   "cell_type": "code",
   "execution_count": 32,
   "metadata": {
    "collapsed": true
   },
   "outputs": [],
   "source": [
    "from sets import Set\n",
    "def createValidAndRequiredKwargs(cls):\n",
    "    print dir(cls.func.__code__)\n",
    "    allKwargs = cls.func.__code__.co_varnames\n",
    "    ignoredKwargs = Set(['self'])\n",
    "    validKwargs = Set()\n",
    "    requiredKwargs = Set()\n",
    "    requiredKwargs = []\n",
    "    for i,kwarg in enumerate(allKwargs):\n",
    "        if kwarg not in ignoredKwargs:\n",
    "            validKwargs.add(kwarg)\n",
    "            if i < len(allKwargs)-(0 if cls.func.__defaults__ is None else len(cls.func.__defaults__)):\n",
    "                requiredKwargs.append(kwarg)\n",
    "    cls.validKwargs = validKwargs\n",
    "    cls.requiredKwargs = requiredKwargs\n",
    "    return cls"
   ]
  },
  {
   "cell_type": "code",
   "execution_count": 39,
   "metadata": {
    "collapsed": false
   },
   "outputs": [
    {
     "name": "stdout",
     "output_type": "stream",
     "text": [
      "['__class__', '__cmp__', '__delattr__', '__doc__', '__eq__', '__format__', '__ge__', '__getattribute__', '__gt__', '__hash__', '__init__', '__le__', '__lt__', '__ne__', '__new__', '__reduce__', '__reduce_ex__', '__repr__', '__setattr__', '__sizeof__', '__str__', '__subclasshook__', 'co_argcount', 'co_cellvars', 'co_code', 'co_consts', 'co_filename', 'co_firstlineno', 'co_flags', 'co_freevars', 'co_lnotab', 'co_name', 'co_names', 'co_nlocals', 'co_stacksize', 'co_varnames']\n"
     ]
    }
   ],
   "source": [
    "@createValidAndRequiredKwargs\n",
    "class Foo(object):\n",
    "    def func(self, hello, bah=2, oink=1):\n",
    "        pass;"
   ]
  },
  {
   "cell_type": "code",
   "execution_count": 40,
   "metadata": {
    "collapsed": false
   },
   "outputs": [
    {
     "name": "stdout",
     "output_type": "stream",
     "text": [
      "Set(['oink', 'hello', 'bah'])\n",
      "['hello']\n"
     ]
    }
   ],
   "source": [
    "print Foo.validKwargs\n",
    "print Foo.requiredKwargs"
   ]
  },
  {
   "cell_type": "code",
   "execution_count": null,
   "metadata": {
    "collapsed": true
   },
   "outputs": [],
   "source": []
  }
 ],
 "metadata": {
  "kernelspec": {
   "display_name": "Python 2",
   "language": "python",
   "name": "python2"
  },
  "language_info": {
   "codemirror_mode": {
    "name": "ipython",
    "version": 2
   },
   "file_extension": ".py",
   "mimetype": "text/x-python",
   "name": "python",
   "nbconvert_exporter": "python",
   "pygments_lexer": "ipython2",
   "version": "2.7.9"
  }
 },
 "nbformat": 4,
 "nbformat_minor": 0
}
